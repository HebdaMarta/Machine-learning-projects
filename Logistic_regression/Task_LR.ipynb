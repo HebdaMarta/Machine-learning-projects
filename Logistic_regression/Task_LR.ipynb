{
 "cells": [
  {
   "cell_type": "markdown",
   "metadata": {},
   "source": [
    "#### Klasyfikator dla zbioru breast cancer     \n",
    "Zbuduj klasyfikator modelem LogisticRegression\n",
    "\n",
    "Dane znajdują się tutaj:    \n",
    "`from sklearn.datasets import load_breast_cancer`\n",
    "\n",
    "1. Wczytaj data jako X i target jako y\n",
    "2. Przeanalizuj kształt danych\n",
    "3. Podziel dane na zbiór treningowy i testowy metodą train_test_split     \n",
    "https://scikit-learn.org/stable/modules/generated/sklearn.model_selection.train_test_split.html\n",
    "\n",
    "4. Dopasuj model na części treningowej i policz `score` dopasowania do danych\n",
    "5. Sprawdź skuteczność modelu licząc score dla części testowej"
   ]
  },
  {
   "cell_type": "code",
   "execution_count": 6,
   "metadata": {},
   "outputs": [
    {
     "name": "stdout",
     "output_type": "stream",
     "text": [
      "(569, 30)\n",
      "(569,)\n",
      "Accuracy of logistic regression classifier on training set: 0.9648\n",
      "Accuracy of logistic regression classifier on test set: 0.9474\n"
     ]
    }
   ],
   "source": [
    "%matplotlib inline\n",
    "import numpy as np\n",
    "import matplotlib.pyplot as plt\n",
    "import seaborn as sns\n",
    "\n",
    "from sklearn.linear_model import LogisticRegression \n",
    "from sklearn.model_selection import train_test_split\n",
    "from sklearn import datasets\n",
    "\n",
    "#1\n",
    "dane = datasets.load_breast_cancer()\n",
    "X = dane.data \n",
    "y = dane.target\n",
    "\n",
    "#2\n",
    "print(X.shape)\n",
    "print(y.shape)\n",
    "\n",
    "#3\n",
    "X_train, X_test, y_train, y_test = train_test_split(X,y,test_size=0.3,random_state= 2021) \n",
    "\n",
    "#4\n",
    "logreg = LogisticRegression(random_state=2021, max_iter = 10000)\n",
    "\n",
    "logreg.fit(X_train, y_train)\n",
    "\n",
    "print('Accuracy of logistic regression classifier on training set: {:.4f}'.format(logreg.score(X_train,y_train)))\n",
    "\n",
    "y_pred = logreg.predict(X_test)\n",
    "\n",
    "#5\n",
    "print('Accuracy of logistic regression classifier on test set: {:.4f}'.format(logreg.score(X_test, y_test)))\n",
    "\n"
   ]
  },
  {
   "cell_type": "code",
   "execution_count": null,
   "metadata": {},
   "outputs": [],
   "source": []
  }
 ],
 "metadata": {
  "kernelspec": {
   "display_name": "Python 3",
   "language": "python",
   "name": "python3"
  },
  "language_info": {
   "codemirror_mode": {
    "name": "ipython",
    "version": 3
   },
   "file_extension": ".py",
   "mimetype": "text/x-python",
   "name": "python",
   "nbconvert_exporter": "python",
   "pygments_lexer": "ipython3",
   "version": "3.8.3"
  }
 },
 "nbformat": 4,
 "nbformat_minor": 4
}
